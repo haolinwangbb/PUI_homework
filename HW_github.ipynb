{
  "cells": [
    {
      "cell_type": "markdown",
      "metadata": {
        "id": "8kSrwOzXQaYY"
      },
      "source": [
        "# github homework\n",
        "\n",
        "\n",
        "Run the below function ‘intro’ by passing your first name, last name and NYU net ID as arguments. (successful run should print ‘Welcome \"first name\" \"last name\". Your NYU id is \"NYU net ID\"’ as output).\n",
        "\n",
        "\n",
        "Create a new branch in your homework repository. (Branches are important if you need to have a separate workflow in the project or if multiple people are working collaboratively on the same repo.)\n",
        "\n",
        "\n",
        "Upload this file (with printed output) in the new branch created. Write ‘add HW with output’ as commit message.\n",
        "\n",
        "\n",
        "Create a pull request to merge the new branch with the main branch. Review the changes and merge the pull request."
      ]
    },
    {
      "cell_type": "code",
      "execution_count": 10,
      "metadata": {
        "id": "e7-X83HjQaYe"
      },
      "outputs": [],
      "source": [
        "def intro(first_name, last_name, netID):\n",
        "    \n",
        "    print('Welcome to PUI 2022', first_name, last_name, \". Your NYU id is\", netID)\n",
        "    "
      ]
    },
    {
      "cell_type": "code",
      "execution_count": 12,
      "metadata": {
        "colab": {
          "base_uri": "https://localhost:8080/"
        },
        "id": "6h-O96HdQaYh",
        "outputId": "246e11cc-52f9-4ae8-9038-c0cdf2c7b19b"
      },
      "outputs": [
        {
          "output_type": "stream",
          "name": "stdout",
          "text": [
            "Welcome to PUI 2022 Harry Wang . Your NYU id is hw2961\n"
          ]
        }
      ],
      "source": [
        "## pass your arguments in the function, remember to pass them as strings\n",
        "intro('Harry', 'Wang', 'hw2961')\n"
      ]
    }
  ],
  "metadata": {
    "kernelspec": {
      "display_name": "Python 3",
      "language": "python",
      "name": "python3"
    },
    "language_info": {
      "codemirror_mode": {
        "name": "ipython",
        "version": 3
      },
      "file_extension": ".py",
      "mimetype": "text/x-python",
      "name": "python",
      "nbconvert_exporter": "python",
      "pygments_lexer": "ipython3",
      "version": "3.7.6"
    },
    "colab": {
      "provenance": []
    }
  },
  "nbformat": 4,
  "nbformat_minor": 0
}